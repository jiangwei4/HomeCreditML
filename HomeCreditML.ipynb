{
 "cells": [
  {
   "cell_type": "code",
   "execution_count": null,
   "metadata": {},
   "outputs": [],
   "source": [
    "import numpy as np\n",
    "import pandas as pd\n",
    "import matplotlib.pyplot as plt\n",
    "import seaborn as sns\n",
    "import tensorflow as tf\n",
    "import tensorflow_docs as tfdocs\n",
    "import tensorflow_docs.plots\n",
    "import tensorflow_docs.modeling\n",
    "from sklearn.preprocessing import LabelEncoder\n",
    "from math import *\n",
    "from sklearn.preprocessing import OneHotEncoder\n",
    "# from sklearn.impute import KNNImputer\n",
    "from tqdm.auto import tqdm\n",
    "from sklearn.model_selection import train_test_split\n",
    "from sklearn.impute import SimpleImputer\n",
    "from sklearn import preprocessing"
   ]
  },
  {
   "cell_type": "code",
   "execution_count": null,
   "metadata": {},
   "outputs": [],
   "source": [
    "pd.set_option('display.max_columns', None)\n",
    "pd.set_option('display.max_rows', None)"
   ]
  },
  {
   "cell_type": "code",
   "execution_count": null,
   "metadata": {},
   "outputs": [],
   "source": [
    "print(\"Num GPUs Available: \", len(tf.config.experimental.list_physical_devices('GPU')))\n",
    "mirrored_strategy = tf.distribute.MirroredStrategy()"
   ]
  },
  {
   "cell_type": "code",
   "execution_count": null,
   "metadata": {},
   "outputs": [],
   "source": [
    "df = pd.read_csv('home-credit-default-risk//application_train.csv')"
   ]
  },
  {
   "cell_type": "markdown",
   "metadata": {},
   "source": [
    "# visualisation data"
   ]
  },
  {
   "cell_type": "code",
   "execution_count": null,
   "metadata": {},
   "outputs": [],
   "source": [
    "plt.figure(figsize=(20,10))\n",
    "sns.heatmap(df.isna())"
   ]
  },
  {
   "cell_type": "markdown",
   "metadata": {},
   "source": [
    "## valeur vide ou null "
   ]
  },
  {
   "cell_type": "code",
   "execution_count": null,
   "metadata": {},
   "outputs": [],
   "source": [
    "(df.isna().sum()/df.shape[0]).sort_values()"
   ]
  },
  {
   "cell_type": "code",
   "execution_count": 5,
   "metadata": {},
   "outputs": [],
   "source": [
    "#on suppr toutes les colonnes à plus de 90% de val manquante\n",
    "df = df[df.columns[(df.isna().sum()/df.shape[0]) < 0.9]]"
   ]
  },
  {
   "cell_type": "markdown",
   "metadata": {},
   "source": [
    "# Variables du csv"
   ]
  },
  {
   "cell_type": "code",
   "execution_count": 6,
   "metadata": {},
   "outputs": [
    {
     "data": {
      "text/plain": [
       "float64    65\n",
       "int64      41\n",
       "object     16\n",
       "dtype: int64"
      ]
     },
     "execution_count": 6,
     "metadata": {},
     "output_type": "execute_result"
    }
   ],
   "source": [
    "df.dtypes.value_counts()"
   ]
  },
  {
   "cell_type": "code",
   "execution_count": null,
   "metadata": {},
   "outputs": [],
   "source": [
    "pbar = tqdm(total=1)\n",
    "for col in df.select_dtypes('float'):\n",
    "    plt.figure()\n",
    "    sns.distplot(df[col])\n",
    "    pbar.update(1/len(df.select_dtypes('float')))\n",
    "pbar.close()"
   ]
  },
  {
   "cell_type": "code",
   "execution_count": null,
   "metadata": {},
   "outputs": [],
   "source": [
    "pbar = tqdm(total=1)\n",
    "for col in df.select_dtypes('object'):\n",
    "    print(f'{col :-<40} => {df[col].unique()}')\n",
    "    plt.figure()\n",
    "    df[col].value_counts(normalize=True, dropna=False).plot.pie()\n",
    "    pbar.update(1/len(df.select_dtypes('object')))\n",
    "pbar.close()"
   ]
  },
  {
   "cell_type": "markdown",
   "metadata": {},
   "source": [
    "# encoder des 16 colonnes objects"
   ]
  },
  {
   "cell_type": "code",
   "execution_count": null,
   "metadata": {},
   "outputs": [],
   "source": [
    "#df2 = pd.get_dummies(df)"
   ]
  },
  {
   "cell_type": "code",
   "execution_count": null,
   "metadata": {},
   "outputs": [],
   "source": []
  },
  {
   "cell_type": "code",
   "execution_count": null,
   "metadata": {},
   "outputs": [],
   "source": []
  },
  {
   "cell_type": "code",
   "execution_count": null,
   "metadata": {},
   "outputs": [],
   "source": []
  },
  {
   "cell_type": "code",
   "execution_count": 7,
   "metadata": {},
   "outputs": [],
   "source": [
    "le = []\n",
    "for i,col in enumerate(df.select_dtypes('object').columns):\n",
    "    try:\n",
    "        le.append(LabelEncoder())\n",
    "        df[col] = le[i].fit_transform(df[col].astype(str))\n",
    "    except:\n",
    "        print('error : '+col)"
   ]
  },
  {
   "cell_type": "code",
   "execution_count": null,
   "metadata": {},
   "outputs": [],
   "source": [
    "#le1 = LabelEncoder()\n",
    "#le2 = LabelEncoder()"
   ]
  },
  {
   "cell_type": "code",
   "execution_count": null,
   "metadata": {},
   "outputs": [],
   "source": [
    "#df['EMERGENCYSTATE_MODE_1'] = df['EMERGENCYSTATE_MODE'].astype(str)"
   ]
  },
  {
   "cell_type": "code",
   "execution_count": null,
   "metadata": {},
   "outputs": [],
   "source": [
    "#le1.fit_transform(df['EMERGENCYSTATE_MODE_1'])"
   ]
  },
  {
   "cell_type": "code",
   "execution_count": null,
   "metadata": {},
   "outputs": [],
   "source": [
    "#le2.fit_transform(df['ORGANIZATION_TYPE'])"
   ]
  },
  {
   "cell_type": "code",
   "execution_count": null,
   "metadata": {},
   "outputs": [],
   "source": [
    "#le1.classes_"
   ]
  },
  {
   "cell_type": "code",
   "execution_count": null,
   "metadata": {},
   "outputs": [],
   "source": [
    "#le2.classes_"
   ]
  },
  {
   "cell_type": "code",
   "execution_count": null,
   "metadata": {},
   "outputs": [],
   "source": [
    "#df['EMERGENCYSTATE_MODE_1'] = le1.fit_transform(df['EMERGENCYSTATE_MODE_1'])\n",
    "#df['ORGANIZATION_TYPE_1'] = le2.fit_transform(df['ORGANIZATION_TYPE'])"
   ]
  },
  {
   "cell_type": "markdown",
   "metadata": {},
   "source": [
    "# difference entre positif et negatif"
   ]
  },
  {
   "cell_type": "code",
   "execution_count": null,
   "metadata": {},
   "outputs": [],
   "source": [
    "#df['TARGET']"
   ]
  },
  {
   "cell_type": "code",
   "execution_count": null,
   "metadata": {},
   "outputs": [],
   "source": [
    "df.dtypes.value_counts()"
   ]
  },
  {
   "cell_type": "code",
   "execution_count": null,
   "metadata": {},
   "outputs": [],
   "source": [
    "positif = df[df['TARGET'] == 1 ]\n",
    "negatif = df[df['TARGET'] != 1 ]"
   ]
  },
  {
   "cell_type": "code",
   "execution_count": null,
   "metadata": {},
   "outputs": [],
   "source": [
    "df_int32_columns = df.select_dtypes('int32').columns\n",
    "df_int64_columns = df.select_dtypes('int64').columns\n",
    "df_float_columns = df.select_dtypes('float').columns"
   ]
  },
  {
   "cell_type": "code",
   "execution_count": null,
   "metadata": {},
   "outputs": [],
   "source": [
    "pbar = tqdm(total=1)\n",
    "x=0\n",
    "y=0\n",
    "nbr = 3\n",
    "fig, axs = plt.subplots(ceil(len(df_int32_columns)/nbr), nbr,  figsize=(20, 20))\n",
    "for col in (df_int32_columns):\n",
    "    if(x>=nbr):\n",
    "        x=0\n",
    "        y+=1\n",
    "    sns.distplot(positif[col], label='positif', ax=axs[y,x])\n",
    "    sns.distplot(negatif[col], label='negatif', ax=axs[y,x])\n",
    "    axs[y,x].legend()\n",
    "    x+=1\n",
    "    pbar.update(1/len(df_int32_columns))\n",
    "pbar.close()"
   ]
  },
  {
   "cell_type": "code",
   "execution_count": null,
   "metadata": {},
   "outputs": [],
   "source": [
    "pbar = tqdm(total=1)\n",
    "x=0\n",
    "y=0\n",
    "nbr = 3\n",
    "fig, axs = plt.subplots(ceil(len(df_int64_columns)/nbr), nbr,  figsize=(20, 80))\n",
    "for col in (df_int64_columns):\n",
    "    if(x>=nbr):\n",
    "        x=0\n",
    "        y+=1\n",
    "    sns.distplot(positif[col], label='positif', ax=axs[y,x])\n",
    "    sns.distplot(negatif[col], label='negatif', ax=axs[y,x])\n",
    "    axs[y,x].legend()\n",
    "    x+=1\n",
    "    pbar.update(1/len(df_int64_columns))\n",
    "pbar.close()"
   ]
  },
  {
   "cell_type": "code",
   "execution_count": null,
   "metadata": {},
   "outputs": [],
   "source": [
    "pbar = tqdm(total=1)\n",
    "x=0\n",
    "y=0\n",
    "nbr = 3\n",
    "fig, axs = plt.subplots(ceil(len(df_float_columns)/nbr), nbr,  figsize=(20, 120))\n",
    "for col in (df_float_columns):\n",
    "    if(x>=nbr):\n",
    "        x=0\n",
    "        y+=1\n",
    "    sns.distplot(positif[col], label='positif', ax=axs[y,x])\n",
    "    sns.distplot(negatif[col], label='negatif', ax=axs[y,x])\n",
    "    axs[y,x].legend()\n",
    "    x+=1\n",
    "    pbar.update(1/len(df_float_columns))\n",
    "pbar.close()"
   ]
  },
  {
   "cell_type": "markdown",
   "metadata": {},
   "source": [
    "# nouveau dataTrain"
   ]
  },
  {
   "cell_type": "code",
   "execution_count": 8,
   "metadata": {},
   "outputs": [
    {
     "data": {
      "text/html": [
       "<div>\n",
       "<style scoped>\n",
       "    .dataframe tbody tr th:only-of-type {\n",
       "        vertical-align: middle;\n",
       "    }\n",
       "\n",
       "    .dataframe tbody tr th {\n",
       "        vertical-align: top;\n",
       "    }\n",
       "\n",
       "    .dataframe thead th {\n",
       "        text-align: right;\n",
       "    }\n",
       "</style>\n",
       "<table border=\"1\" class=\"dataframe\">\n",
       "  <thead>\n",
       "    <tr style=\"text-align: right;\">\n",
       "      <th></th>\n",
       "      <th>TARGET</th>\n",
       "      <th>EMERGENCYSTATE_MODE</th>\n",
       "      <th>HOUSETYPE_MODE</th>\n",
       "      <th>OCCUPATION_TYPE</th>\n",
       "      <th>WEEKDAY_APPR_PROCESS_START</th>\n",
       "      <th>ORGANIZATION_TYPE</th>\n",
       "      <th>CODE_GENDER</th>\n",
       "      <th>FLAG_OWN_CAR</th>\n",
       "      <th>FLAG_OWN_REALTY</th>\n",
       "      <th>NAME_INCOME_TYPE</th>\n",
       "      <th>NAME_EDUCATION_TYPE</th>\n",
       "      <th>FONDKAPREMONT_MODE</th>\n",
       "      <th>DAYS_BIRTH</th>\n",
       "      <th>DAYS_ID_PUBLISH</th>\n",
       "      <th>FLAG_PHONE</th>\n",
       "      <th>REG_CITY_NOT_WORK_CITY</th>\n",
       "      <th>FLAG_DOCUMENT_3</th>\n",
       "      <th>AMT_CREDIT</th>\n",
       "      <th>AMT_GOODS_PRICE</th>\n",
       "      <th>REGION_POPULATION_RELATIVE</th>\n",
       "      <th>DAYS_REGISTRATION</th>\n",
       "      <th>EXT_SOURCE_1</th>\n",
       "      <th>EXT_SOURCE_2</th>\n",
       "      <th>EXT_SOURCE_3</th>\n",
       "      <th>OBS_60_CNT_SOCIAL_CIRCLE</th>\n",
       "      <th>DEF_30_CNT_SOCIAL_CIRCLE</th>\n",
       "      <th>OBS_30_CNT_SOCIAL_CIRCLE</th>\n",
       "      <th>DEF_60_CNT_SOCIAL_CIRCLE</th>\n",
       "    </tr>\n",
       "  </thead>\n",
       "  <tbody>\n",
       "    <tr>\n",
       "      <th>0</th>\n",
       "      <td>1</td>\n",
       "      <td>0</td>\n",
       "      <td>0</td>\n",
       "      <td>8</td>\n",
       "      <td>6</td>\n",
       "      <td>5</td>\n",
       "      <td>1</td>\n",
       "      <td>0</td>\n",
       "      <td>1</td>\n",
       "      <td>7</td>\n",
       "      <td>4</td>\n",
       "      <td>3</td>\n",
       "      <td>-9461</td>\n",
       "      <td>-2120</td>\n",
       "      <td>1</td>\n",
       "      <td>0</td>\n",
       "      <td>1</td>\n",
       "      <td>406597.5</td>\n",
       "      <td>351000.0</td>\n",
       "      <td>0.018801</td>\n",
       "      <td>-3648.0</td>\n",
       "      <td>0.083037</td>\n",
       "      <td>0.262949</td>\n",
       "      <td>0.139376</td>\n",
       "      <td>2.0</td>\n",
       "      <td>2.0</td>\n",
       "      <td>2.0</td>\n",
       "      <td>2.0</td>\n",
       "    </tr>\n",
       "    <tr>\n",
       "      <th>1</th>\n",
       "      <td>0</td>\n",
       "      <td>0</td>\n",
       "      <td>0</td>\n",
       "      <td>3</td>\n",
       "      <td>1</td>\n",
       "      <td>39</td>\n",
       "      <td>0</td>\n",
       "      <td>0</td>\n",
       "      <td>0</td>\n",
       "      <td>4</td>\n",
       "      <td>1</td>\n",
       "      <td>3</td>\n",
       "      <td>-16765</td>\n",
       "      <td>-291</td>\n",
       "      <td>1</td>\n",
       "      <td>0</td>\n",
       "      <td>1</td>\n",
       "      <td>1293502.5</td>\n",
       "      <td>1129500.0</td>\n",
       "      <td>0.003541</td>\n",
       "      <td>-1186.0</td>\n",
       "      <td>0.311267</td>\n",
       "      <td>0.622246</td>\n",
       "      <td>NaN</td>\n",
       "      <td>1.0</td>\n",
       "      <td>0.0</td>\n",
       "      <td>1.0</td>\n",
       "      <td>0.0</td>\n",
       "    </tr>\n",
       "    <tr>\n",
       "      <th>2</th>\n",
       "      <td>0</td>\n",
       "      <td>2</td>\n",
       "      <td>1</td>\n",
       "      <td>8</td>\n",
       "      <td>1</td>\n",
       "      <td>11</td>\n",
       "      <td>1</td>\n",
       "      <td>1</td>\n",
       "      <td>1</td>\n",
       "      <td>7</td>\n",
       "      <td>4</td>\n",
       "      <td>0</td>\n",
       "      <td>-19046</td>\n",
       "      <td>-2531</td>\n",
       "      <td>1</td>\n",
       "      <td>0</td>\n",
       "      <td>0</td>\n",
       "      <td>135000.0</td>\n",
       "      <td>135000.0</td>\n",
       "      <td>0.010032</td>\n",
       "      <td>-4260.0</td>\n",
       "      <td>NaN</td>\n",
       "      <td>0.555912</td>\n",
       "      <td>0.729567</td>\n",
       "      <td>0.0</td>\n",
       "      <td>0.0</td>\n",
       "      <td>0.0</td>\n",
       "      <td>0.0</td>\n",
       "    </tr>\n",
       "    <tr>\n",
       "      <th>3</th>\n",
       "      <td>0</td>\n",
       "      <td>2</td>\n",
       "      <td>1</td>\n",
       "      <td>8</td>\n",
       "      <td>6</td>\n",
       "      <td>5</td>\n",
       "      <td>0</td>\n",
       "      <td>0</td>\n",
       "      <td>1</td>\n",
       "      <td>7</td>\n",
       "      <td>4</td>\n",
       "      <td>0</td>\n",
       "      <td>-19005</td>\n",
       "      <td>-2437</td>\n",
       "      <td>0</td>\n",
       "      <td>0</td>\n",
       "      <td>1</td>\n",
       "      <td>312682.5</td>\n",
       "      <td>297000.0</td>\n",
       "      <td>0.008019</td>\n",
       "      <td>-9833.0</td>\n",
       "      <td>NaN</td>\n",
       "      <td>0.650442</td>\n",
       "      <td>NaN</td>\n",
       "      <td>2.0</td>\n",
       "      <td>0.0</td>\n",
       "      <td>2.0</td>\n",
       "      <td>0.0</td>\n",
       "    </tr>\n",
       "    <tr>\n",
       "      <th>4</th>\n",
       "      <td>0</td>\n",
       "      <td>2</td>\n",
       "      <td>1</td>\n",
       "      <td>3</td>\n",
       "      <td>4</td>\n",
       "      <td>37</td>\n",
       "      <td>1</td>\n",
       "      <td>0</td>\n",
       "      <td>1</td>\n",
       "      <td>7</td>\n",
       "      <td>4</td>\n",
       "      <td>0</td>\n",
       "      <td>-19932</td>\n",
       "      <td>-3458</td>\n",
       "      <td>0</td>\n",
       "      <td>1</td>\n",
       "      <td>0</td>\n",
       "      <td>513000.0</td>\n",
       "      <td>513000.0</td>\n",
       "      <td>0.028663</td>\n",
       "      <td>-4311.0</td>\n",
       "      <td>NaN</td>\n",
       "      <td>0.322738</td>\n",
       "      <td>NaN</td>\n",
       "      <td>0.0</td>\n",
       "      <td>0.0</td>\n",
       "      <td>0.0</td>\n",
       "      <td>0.0</td>\n",
       "    </tr>\n",
       "  </tbody>\n",
       "</table>\n",
       "</div>"
      ],
      "text/plain": [
       "   TARGET  EMERGENCYSTATE_MODE  HOUSETYPE_MODE  OCCUPATION_TYPE  \\\n",
       "0       1                    0               0                8   \n",
       "1       0                    0               0                3   \n",
       "2       0                    2               1                8   \n",
       "3       0                    2               1                8   \n",
       "4       0                    2               1                3   \n",
       "\n",
       "   WEEKDAY_APPR_PROCESS_START  ORGANIZATION_TYPE  CODE_GENDER  FLAG_OWN_CAR  \\\n",
       "0                           6                  5            1             0   \n",
       "1                           1                 39            0             0   \n",
       "2                           1                 11            1             1   \n",
       "3                           6                  5            0             0   \n",
       "4                           4                 37            1             0   \n",
       "\n",
       "   FLAG_OWN_REALTY  NAME_INCOME_TYPE  NAME_EDUCATION_TYPE  FONDKAPREMONT_MODE  \\\n",
       "0                1                 7                    4                   3   \n",
       "1                0                 4                    1                   3   \n",
       "2                1                 7                    4                   0   \n",
       "3                1                 7                    4                   0   \n",
       "4                1                 7                    4                   0   \n",
       "\n",
       "   DAYS_BIRTH  DAYS_ID_PUBLISH  FLAG_PHONE  REG_CITY_NOT_WORK_CITY  \\\n",
       "0       -9461            -2120           1                       0   \n",
       "1      -16765             -291           1                       0   \n",
       "2      -19046            -2531           1                       0   \n",
       "3      -19005            -2437           0                       0   \n",
       "4      -19932            -3458           0                       1   \n",
       "\n",
       "   FLAG_DOCUMENT_3  AMT_CREDIT  AMT_GOODS_PRICE  REGION_POPULATION_RELATIVE  \\\n",
       "0                1    406597.5         351000.0                    0.018801   \n",
       "1                1   1293502.5        1129500.0                    0.003541   \n",
       "2                0    135000.0         135000.0                    0.010032   \n",
       "3                1    312682.5         297000.0                    0.008019   \n",
       "4                0    513000.0         513000.0                    0.028663   \n",
       "\n",
       "   DAYS_REGISTRATION  EXT_SOURCE_1  EXT_SOURCE_2  EXT_SOURCE_3  \\\n",
       "0            -3648.0      0.083037      0.262949      0.139376   \n",
       "1            -1186.0      0.311267      0.622246           NaN   \n",
       "2            -4260.0           NaN      0.555912      0.729567   \n",
       "3            -9833.0           NaN      0.650442           NaN   \n",
       "4            -4311.0           NaN      0.322738           NaN   \n",
       "\n",
       "   OBS_60_CNT_SOCIAL_CIRCLE  DEF_30_CNT_SOCIAL_CIRCLE  \\\n",
       "0                       2.0                       2.0   \n",
       "1                       1.0                       0.0   \n",
       "2                       0.0                       0.0   \n",
       "3                       2.0                       0.0   \n",
       "4                       0.0                       0.0   \n",
       "\n",
       "   OBS_30_CNT_SOCIAL_CIRCLE  DEF_60_CNT_SOCIAL_CIRCLE  \n",
       "0                       2.0                       2.0  \n",
       "1                       1.0                       0.0  \n",
       "2                       0.0                       0.0  \n",
       "3                       2.0                       0.0  \n",
       "4                       0.0                       0.0  "
      ]
     },
     "execution_count": 8,
     "metadata": {},
     "output_type": "execute_result"
    }
   ],
   "source": [
    "data_train = df[['TARGET','EMERGENCYSTATE_MODE','HOUSETYPE_MODE','OCCUPATION_TYPE','WEEKDAY_APPR_PROCESS_START','ORGANIZATION_TYPE','CODE_GENDER','FLAG_OWN_CAR','FLAG_OWN_REALTY','NAME_INCOME_TYPE','NAME_EDUCATION_TYPE','FONDKAPREMONT_MODE','DAYS_BIRTH','DAYS_ID_PUBLISH','FLAG_PHONE','REG_CITY_NOT_WORK_CITY','FLAG_DOCUMENT_3','AMT_CREDIT','AMT_GOODS_PRICE','REGION_POPULATION_RELATIVE','DAYS_REGISTRATION','EXT_SOURCE_1','EXT_SOURCE_2','EXT_SOURCE_3','OBS_60_CNT_SOCIAL_CIRCLE','DEF_30_CNT_SOCIAL_CIRCLE','OBS_30_CNT_SOCIAL_CIRCLE','DEF_60_CNT_SOCIAL_CIRCLE']]\n",
    "data_train.head()"
   ]
  },
  {
   "cell_type": "code",
   "execution_count": 9,
   "metadata": {},
   "outputs": [
    {
     "data": {
      "text/plain": [
       "TARGET                        0.000000\n",
       "DAYS_REGISTRATION             0.000000\n",
       "REGION_POPULATION_RELATIVE    0.000000\n",
       "AMT_CREDIT                    0.000000\n",
       "FLAG_DOCUMENT_3               0.000000\n",
       "REG_CITY_NOT_WORK_CITY        0.000000\n",
       "FLAG_PHONE                    0.000000\n",
       "DAYS_BIRTH                    0.000000\n",
       "FONDKAPREMONT_MODE            0.000000\n",
       "NAME_EDUCATION_TYPE           0.000000\n",
       "DAYS_ID_PUBLISH               0.000000\n",
       "FLAG_OWN_REALTY               0.000000\n",
       "EMERGENCYSTATE_MODE           0.000000\n",
       "NAME_INCOME_TYPE              0.000000\n",
       "OCCUPATION_TYPE               0.000000\n",
       "WEEKDAY_APPR_PROCESS_START    0.000000\n",
       "HOUSETYPE_MODE                0.000000\n",
       "CODE_GENDER                   0.000000\n",
       "FLAG_OWN_CAR                  0.000000\n",
       "ORGANIZATION_TYPE             0.000000\n",
       "AMT_GOODS_PRICE               0.000904\n",
       "EXT_SOURCE_2                  0.002146\n",
       "OBS_30_CNT_SOCIAL_CIRCLE      0.003320\n",
       "OBS_60_CNT_SOCIAL_CIRCLE      0.003320\n",
       "DEF_30_CNT_SOCIAL_CIRCLE      0.003320\n",
       "DEF_60_CNT_SOCIAL_CIRCLE      0.003320\n",
       "EXT_SOURCE_3                  0.198253\n",
       "EXT_SOURCE_1                  0.563811\n",
       "dtype: float64"
      ]
     },
     "execution_count": 9,
     "metadata": {},
     "output_type": "execute_result"
    }
   ],
   "source": [
    "(data_train.isna().mean()).sort_values()"
   ]
  },
  {
   "cell_type": "code",
   "execution_count": 10,
   "metadata": {},
   "outputs": [
    {
     "data": {
      "text/plain": [
       "0"
      ]
     },
     "execution_count": 10,
     "metadata": {},
     "output_type": "execute_result"
    }
   ],
   "source": [
    "data_train['EMERGENCYSTATE_MODE'].isna().sum()"
   ]
  },
  {
   "cell_type": "code",
   "execution_count": null,
   "metadata": {},
   "outputs": [],
   "source": [
    "pbar = tqdm(total=1)\n",
    "for col in data_train.columns:\n",
    "    if((data_train[col].isna().sum()) > 0):\n",
    "        print(f'{col :-<40} => {data_train[col].unique()}')\n",
    "        plt.figure()\n",
    "        data_train[col].value_counts(normalize=True, dropna=False).plot.pie()\n",
    "    pbar.update(1/len(data_train.columns))\n",
    "pbar.close()"
   ]
  },
  {
   "cell_type": "code",
   "execution_count": null,
   "metadata": {},
   "outputs": [],
   "source": []
  },
  {
   "cell_type": "markdown",
   "metadata": {},
   "source": [
    "# suppr les 1021 lignes vide "
   ]
  },
  {
   "cell_type": "code",
   "execution_count": null,
   "metadata": {},
   "outputs": [],
   "source": [
    "a=data_train['OBS_30_CNT_SOCIAL_CIRCLE'].isna()\n",
    "a2=data_train['OBS_60_CNT_SOCIAL_CIRCLE'].isna()\n",
    "a3=data_train['DEF_60_CNT_SOCIAL_CIRCLE'].isna()"
   ]
  },
  {
   "cell_type": "code",
   "execution_count": null,
   "metadata": {},
   "outputs": [],
   "source": [
    "b= (a==1)&(a2==1)&(a3==1)"
   ]
  },
  {
   "cell_type": "code",
   "execution_count": null,
   "metadata": {},
   "outputs": [],
   "source": [
    "print(b==a)"
   ]
  },
  {
   "cell_type": "code",
   "execution_count": 11,
   "metadata": {},
   "outputs": [
    {
     "data": {
      "text/plain": [
       "1021"
      ]
     },
     "execution_count": 11,
     "metadata": {},
     "output_type": "execute_result"
    }
   ],
   "source": [
    "data_train['OBS_30_CNT_SOCIAL_CIRCLE'].isna().sum()"
   ]
  },
  {
   "cell_type": "code",
   "execution_count": 12,
   "metadata": {},
   "outputs": [],
   "source": [
    "data_train = data_train.dropna(subset=['OBS_30_CNT_SOCIAL_CIRCLE'])"
   ]
  },
  {
   "cell_type": "code",
   "execution_count": 13,
   "metadata": {},
   "outputs": [
    {
     "data": {
      "text/plain": [
       "TARGET                        0.000000\n",
       "DEF_30_CNT_SOCIAL_CIRCLE      0.000000\n",
       "OBS_60_CNT_SOCIAL_CIRCLE      0.000000\n",
       "DAYS_REGISTRATION             0.000000\n",
       "REGION_POPULATION_RELATIVE    0.000000\n",
       "AMT_CREDIT                    0.000000\n",
       "FLAG_DOCUMENT_3               0.000000\n",
       "REG_CITY_NOT_WORK_CITY        0.000000\n",
       "FLAG_PHONE                    0.000000\n",
       "OBS_30_CNT_SOCIAL_CIRCLE      0.000000\n",
       "DAYS_BIRTH                    0.000000\n",
       "DAYS_ID_PUBLISH               0.000000\n",
       "NAME_EDUCATION_TYPE           0.000000\n",
       "NAME_INCOME_TYPE              0.000000\n",
       "FLAG_OWN_REALTY               0.000000\n",
       "FLAG_OWN_CAR                  0.000000\n",
       "CODE_GENDER                   0.000000\n",
       "ORGANIZATION_TYPE             0.000000\n",
       "WEEKDAY_APPR_PROCESS_START    0.000000\n",
       "OCCUPATION_TYPE               0.000000\n",
       "HOUSETYPE_MODE                0.000000\n",
       "EMERGENCYSTATE_MODE           0.000000\n",
       "FONDKAPREMONT_MODE            0.000000\n",
       "DEF_60_CNT_SOCIAL_CIRCLE      0.000000\n",
       "AMT_GOODS_PRICE               0.000907\n",
       "EXT_SOURCE_2                  0.002140\n",
       "EXT_SOURCE_3                  0.198026\n",
       "EXT_SOURCE_1                  0.563891\n",
       "dtype: float64"
      ]
     },
     "execution_count": 13,
     "metadata": {},
     "output_type": "execute_result"
    }
   ],
   "source": [
    "(data_train.isna().sum()/data_train.shape[0]).sort_values()"
   ]
  },
  {
   "cell_type": "markdown",
   "metadata": {},
   "source": [
    "# Valeurs vide"
   ]
  },
  {
   "cell_type": "code",
   "execution_count": 14,
   "metadata": {},
   "outputs": [],
   "source": [
    "columns = (data_train.isna().mean()).sort_values() >0\n",
    "columns_index = columns.index[columns.values == True]\n",
    "\n",
    "\n",
    "# CHANGEMENT DE METHODE\n",
    "# imputer = KNNImputer(n_neighbors= 2)\n",
    "\n",
    "# # imputer = KNNImputer(n_neighbors=5)\n",
    "# # df = data_train(imputer.fit_transform(data_train),columns = data_train.columns)\n",
    "# # df.isna().any()\n",
    "\n",
    "# # print(columns_index)\n",
    "\n",
    "# pbar = tqdm(total=1)\n",
    "# for column in columns_index:\n",
    "    \n",
    "#     impute_with_2 = imputer.fit_transform([data_train[column]])[0]\n",
    "# #     print(impute_with_2[0:5])\n",
    "# #     print(data_train[column].head())\n",
    "    \n",
    "#     print(\"Colonne : \"+ column + \" -- taille KNN : \"+str(len(impute_with_2)) + \" -- taille colonne: \"+str(len(data_train[column])))\n",
    "    \n",
    "# #     nulls = data_train[data_train[column].isna()]\n",
    "\n",
    "# #     for i, ni in enumerate(nulls.index[:len(impute_with_2)]):\n",
    "# #         data_train[column].loc[ni] = impute_with_2[i]\n",
    "\n",
    "#     pbar.update(1/(len(columns_index)))\n",
    "# pbar.close()\n"
   ]
  },
  {
   "cell_type": "code",
   "execution_count": 15,
   "metadata": {},
   "outputs": [
    {
     "data": {
      "application/vnd.jupyter.widget-view+json": {
       "model_id": "38669e8ad18a47b79856a51e90a118df",
       "version_major": 2,
       "version_minor": 0
      },
      "text/plain": [
       "HBox(children=(FloatProgress(value=0.0, max=1.0), HTML(value='')))"
      ]
     },
     "metadata": {},
     "output_type": "display_data"
    },
    {
     "name": "stdout",
     "output_type": "stream",
     "text": [
      "\n"
     ]
    }
   ],
   "source": [
    "imp_median= SimpleImputer(missing_values=np.nan, strategy='median')\n",
    "\n",
    "pbar = tqdm(total=1)\n",
    "for column in columns_index:\n",
    "    \n",
    "    imp_median= imp_median.fit(data_train[[column]])\n",
    "    data_train[column] = imp_median.transform(data_train[[column]]).ravel()\n",
    "\n",
    "    pbar.update(1/(len(columns_index)))\n",
    "pbar.close()"
   ]
  },
  {
   "cell_type": "code",
   "execution_count": 16,
   "metadata": {},
   "outputs": [
    {
     "data": {
      "text/plain": [
       "TARGET                        0.0\n",
       "DEF_30_CNT_SOCIAL_CIRCLE      0.0\n",
       "OBS_60_CNT_SOCIAL_CIRCLE      0.0\n",
       "EXT_SOURCE_3                  0.0\n",
       "EXT_SOURCE_2                  0.0\n",
       "EXT_SOURCE_1                  0.0\n",
       "DAYS_REGISTRATION             0.0\n",
       "REGION_POPULATION_RELATIVE    0.0\n",
       "AMT_GOODS_PRICE               0.0\n",
       "AMT_CREDIT                    0.0\n",
       "FLAG_DOCUMENT_3               0.0\n",
       "REG_CITY_NOT_WORK_CITY        0.0\n",
       "FLAG_PHONE                    0.0\n",
       "DAYS_ID_PUBLISH               0.0\n",
       "DAYS_BIRTH                    0.0\n",
       "FONDKAPREMONT_MODE            0.0\n",
       "NAME_EDUCATION_TYPE           0.0\n",
       "NAME_INCOME_TYPE              0.0\n",
       "FLAG_OWN_REALTY               0.0\n",
       "FLAG_OWN_CAR                  0.0\n",
       "CODE_GENDER                   0.0\n",
       "ORGANIZATION_TYPE             0.0\n",
       "WEEKDAY_APPR_PROCESS_START    0.0\n",
       "OCCUPATION_TYPE               0.0\n",
       "HOUSETYPE_MODE                0.0\n",
       "EMERGENCYSTATE_MODE           0.0\n",
       "OBS_30_CNT_SOCIAL_CIRCLE      0.0\n",
       "DEF_60_CNT_SOCIAL_CIRCLE      0.0\n",
       "dtype: float64"
      ]
     },
     "execution_count": 16,
     "metadata": {},
     "output_type": "execute_result"
    }
   ],
   "source": [
    "(data_train.isna().mean()).sort_values()"
   ]
  },
  {
   "cell_type": "markdown",
   "metadata": {},
   "source": [
    "# normalisation de la data"
   ]
  },
  {
   "cell_type": "code",
   "execution_count": 17,
   "metadata": {},
   "outputs": [
    {
     "data": {
      "text/html": [
       "<div>\n",
       "<style scoped>\n",
       "    .dataframe tbody tr th:only-of-type {\n",
       "        vertical-align: middle;\n",
       "    }\n",
       "\n",
       "    .dataframe tbody tr th {\n",
       "        vertical-align: top;\n",
       "    }\n",
       "\n",
       "    .dataframe thead th {\n",
       "        text-align: right;\n",
       "    }\n",
       "</style>\n",
       "<table border=\"1\" class=\"dataframe\">\n",
       "  <thead>\n",
       "    <tr style=\"text-align: right;\">\n",
       "      <th></th>\n",
       "      <th>TARGET</th>\n",
       "      <th>EMERGENCYSTATE_MODE</th>\n",
       "      <th>HOUSETYPE_MODE</th>\n",
       "      <th>OCCUPATION_TYPE</th>\n",
       "      <th>WEEKDAY_APPR_PROCESS_START</th>\n",
       "      <th>ORGANIZATION_TYPE</th>\n",
       "      <th>CODE_GENDER</th>\n",
       "      <th>FLAG_OWN_CAR</th>\n",
       "      <th>FLAG_OWN_REALTY</th>\n",
       "      <th>NAME_INCOME_TYPE</th>\n",
       "      <th>NAME_EDUCATION_TYPE</th>\n",
       "      <th>FONDKAPREMONT_MODE</th>\n",
       "      <th>DAYS_BIRTH</th>\n",
       "      <th>DAYS_ID_PUBLISH</th>\n",
       "      <th>FLAG_PHONE</th>\n",
       "      <th>REG_CITY_NOT_WORK_CITY</th>\n",
       "      <th>FLAG_DOCUMENT_3</th>\n",
       "      <th>AMT_CREDIT</th>\n",
       "      <th>AMT_GOODS_PRICE</th>\n",
       "      <th>REGION_POPULATION_RELATIVE</th>\n",
       "      <th>DAYS_REGISTRATION</th>\n",
       "      <th>EXT_SOURCE_1</th>\n",
       "      <th>EXT_SOURCE_2</th>\n",
       "      <th>EXT_SOURCE_3</th>\n",
       "      <th>OBS_60_CNT_SOCIAL_CIRCLE</th>\n",
       "      <th>DEF_30_CNT_SOCIAL_CIRCLE</th>\n",
       "      <th>OBS_30_CNT_SOCIAL_CIRCLE</th>\n",
       "      <th>DEF_60_CNT_SOCIAL_CIRCLE</th>\n",
       "    </tr>\n",
       "  </thead>\n",
       "  <tbody>\n",
       "    <tr>\n",
       "      <th>0</th>\n",
       "      <td>1</td>\n",
       "      <td>0</td>\n",
       "      <td>0</td>\n",
       "      <td>8</td>\n",
       "      <td>6</td>\n",
       "      <td>5</td>\n",
       "      <td>1</td>\n",
       "      <td>0</td>\n",
       "      <td>1</td>\n",
       "      <td>7</td>\n",
       "      <td>4</td>\n",
       "      <td>3</td>\n",
       "      <td>-9461</td>\n",
       "      <td>-2120</td>\n",
       "      <td>1</td>\n",
       "      <td>0</td>\n",
       "      <td>1</td>\n",
       "      <td>406597.5</td>\n",
       "      <td>351000.0</td>\n",
       "      <td>0.018801</td>\n",
       "      <td>-3648.0</td>\n",
       "      <td>0.083037</td>\n",
       "      <td>0.262949</td>\n",
       "      <td>0.139376</td>\n",
       "      <td>2.0</td>\n",
       "      <td>2.0</td>\n",
       "      <td>2.0</td>\n",
       "      <td>2.0</td>\n",
       "    </tr>\n",
       "    <tr>\n",
       "      <th>1</th>\n",
       "      <td>0</td>\n",
       "      <td>0</td>\n",
       "      <td>0</td>\n",
       "      <td>3</td>\n",
       "      <td>1</td>\n",
       "      <td>39</td>\n",
       "      <td>0</td>\n",
       "      <td>0</td>\n",
       "      <td>0</td>\n",
       "      <td>4</td>\n",
       "      <td>1</td>\n",
       "      <td>3</td>\n",
       "      <td>-16765</td>\n",
       "      <td>-291</td>\n",
       "      <td>1</td>\n",
       "      <td>0</td>\n",
       "      <td>1</td>\n",
       "      <td>1293502.5</td>\n",
       "      <td>1129500.0</td>\n",
       "      <td>0.003541</td>\n",
       "      <td>-1186.0</td>\n",
       "      <td>0.311267</td>\n",
       "      <td>0.622246</td>\n",
       "      <td>0.535276</td>\n",
       "      <td>1.0</td>\n",
       "      <td>0.0</td>\n",
       "      <td>1.0</td>\n",
       "      <td>0.0</td>\n",
       "    </tr>\n",
       "    <tr>\n",
       "      <th>2</th>\n",
       "      <td>0</td>\n",
       "      <td>2</td>\n",
       "      <td>1</td>\n",
       "      <td>8</td>\n",
       "      <td>1</td>\n",
       "      <td>11</td>\n",
       "      <td>1</td>\n",
       "      <td>1</td>\n",
       "      <td>1</td>\n",
       "      <td>7</td>\n",
       "      <td>4</td>\n",
       "      <td>0</td>\n",
       "      <td>-19046</td>\n",
       "      <td>-2531</td>\n",
       "      <td>1</td>\n",
       "      <td>0</td>\n",
       "      <td>0</td>\n",
       "      <td>135000.0</td>\n",
       "      <td>135000.0</td>\n",
       "      <td>0.010032</td>\n",
       "      <td>-4260.0</td>\n",
       "      <td>0.505795</td>\n",
       "      <td>0.555912</td>\n",
       "      <td>0.729567</td>\n",
       "      <td>0.0</td>\n",
       "      <td>0.0</td>\n",
       "      <td>0.0</td>\n",
       "      <td>0.0</td>\n",
       "    </tr>\n",
       "    <tr>\n",
       "      <th>3</th>\n",
       "      <td>0</td>\n",
       "      <td>2</td>\n",
       "      <td>1</td>\n",
       "      <td>8</td>\n",
       "      <td>6</td>\n",
       "      <td>5</td>\n",
       "      <td>0</td>\n",
       "      <td>0</td>\n",
       "      <td>1</td>\n",
       "      <td>7</td>\n",
       "      <td>4</td>\n",
       "      <td>0</td>\n",
       "      <td>-19005</td>\n",
       "      <td>-2437</td>\n",
       "      <td>0</td>\n",
       "      <td>0</td>\n",
       "      <td>1</td>\n",
       "      <td>312682.5</td>\n",
       "      <td>297000.0</td>\n",
       "      <td>0.008019</td>\n",
       "      <td>-9833.0</td>\n",
       "      <td>0.505795</td>\n",
       "      <td>0.650442</td>\n",
       "      <td>0.535276</td>\n",
       "      <td>2.0</td>\n",
       "      <td>0.0</td>\n",
       "      <td>2.0</td>\n",
       "      <td>0.0</td>\n",
       "    </tr>\n",
       "    <tr>\n",
       "      <th>4</th>\n",
       "      <td>0</td>\n",
       "      <td>2</td>\n",
       "      <td>1</td>\n",
       "      <td>3</td>\n",
       "      <td>4</td>\n",
       "      <td>37</td>\n",
       "      <td>1</td>\n",
       "      <td>0</td>\n",
       "      <td>1</td>\n",
       "      <td>7</td>\n",
       "      <td>4</td>\n",
       "      <td>0</td>\n",
       "      <td>-19932</td>\n",
       "      <td>-3458</td>\n",
       "      <td>0</td>\n",
       "      <td>1</td>\n",
       "      <td>0</td>\n",
       "      <td>513000.0</td>\n",
       "      <td>513000.0</td>\n",
       "      <td>0.028663</td>\n",
       "      <td>-4311.0</td>\n",
       "      <td>0.505795</td>\n",
       "      <td>0.322738</td>\n",
       "      <td>0.535276</td>\n",
       "      <td>0.0</td>\n",
       "      <td>0.0</td>\n",
       "      <td>0.0</td>\n",
       "      <td>0.0</td>\n",
       "    </tr>\n",
       "  </tbody>\n",
       "</table>\n",
       "</div>"
      ],
      "text/plain": [
       "   TARGET  EMERGENCYSTATE_MODE  HOUSETYPE_MODE  OCCUPATION_TYPE  \\\n",
       "0       1                    0               0                8   \n",
       "1       0                    0               0                3   \n",
       "2       0                    2               1                8   \n",
       "3       0                    2               1                8   \n",
       "4       0                    2               1                3   \n",
       "\n",
       "   WEEKDAY_APPR_PROCESS_START  ORGANIZATION_TYPE  CODE_GENDER  FLAG_OWN_CAR  \\\n",
       "0                           6                  5            1             0   \n",
       "1                           1                 39            0             0   \n",
       "2                           1                 11            1             1   \n",
       "3                           6                  5            0             0   \n",
       "4                           4                 37            1             0   \n",
       "\n",
       "   FLAG_OWN_REALTY  NAME_INCOME_TYPE  NAME_EDUCATION_TYPE  FONDKAPREMONT_MODE  \\\n",
       "0                1                 7                    4                   3   \n",
       "1                0                 4                    1                   3   \n",
       "2                1                 7                    4                   0   \n",
       "3                1                 7                    4                   0   \n",
       "4                1                 7                    4                   0   \n",
       "\n",
       "   DAYS_BIRTH  DAYS_ID_PUBLISH  FLAG_PHONE  REG_CITY_NOT_WORK_CITY  \\\n",
       "0       -9461            -2120           1                       0   \n",
       "1      -16765             -291           1                       0   \n",
       "2      -19046            -2531           1                       0   \n",
       "3      -19005            -2437           0                       0   \n",
       "4      -19932            -3458           0                       1   \n",
       "\n",
       "   FLAG_DOCUMENT_3  AMT_CREDIT  AMT_GOODS_PRICE  REGION_POPULATION_RELATIVE  \\\n",
       "0                1    406597.5         351000.0                    0.018801   \n",
       "1                1   1293502.5        1129500.0                    0.003541   \n",
       "2                0    135000.0         135000.0                    0.010032   \n",
       "3                1    312682.5         297000.0                    0.008019   \n",
       "4                0    513000.0         513000.0                    0.028663   \n",
       "\n",
       "   DAYS_REGISTRATION  EXT_SOURCE_1  EXT_SOURCE_2  EXT_SOURCE_3  \\\n",
       "0            -3648.0      0.083037      0.262949      0.139376   \n",
       "1            -1186.0      0.311267      0.622246      0.535276   \n",
       "2            -4260.0      0.505795      0.555912      0.729567   \n",
       "3            -9833.0      0.505795      0.650442      0.535276   \n",
       "4            -4311.0      0.505795      0.322738      0.535276   \n",
       "\n",
       "   OBS_60_CNT_SOCIAL_CIRCLE  DEF_30_CNT_SOCIAL_CIRCLE  \\\n",
       "0                       2.0                       2.0   \n",
       "1                       1.0                       0.0   \n",
       "2                       0.0                       0.0   \n",
       "3                       2.0                       0.0   \n",
       "4                       0.0                       0.0   \n",
       "\n",
       "   OBS_30_CNT_SOCIAL_CIRCLE  DEF_60_CNT_SOCIAL_CIRCLE  \n",
       "0                       2.0                       2.0  \n",
       "1                       1.0                       0.0  \n",
       "2                       0.0                       0.0  \n",
       "3                       2.0                       0.0  \n",
       "4                       0.0                       0.0  "
      ]
     },
     "execution_count": 17,
     "metadata": {},
     "output_type": "execute_result"
    }
   ],
   "source": [
    "data_train.head()"
   ]
  },
  {
   "cell_type": "code",
   "execution_count": 18,
   "metadata": {},
   "outputs": [
    {
     "data": {
      "text/html": [
       "<div>\n",
       "<style scoped>\n",
       "    .dataframe tbody tr th:only-of-type {\n",
       "        vertical-align: middle;\n",
       "    }\n",
       "\n",
       "    .dataframe tbody tr th {\n",
       "        vertical-align: top;\n",
       "    }\n",
       "\n",
       "    .dataframe thead th {\n",
       "        text-align: right;\n",
       "    }\n",
       "</style>\n",
       "<table border=\"1\" class=\"dataframe\">\n",
       "  <thead>\n",
       "    <tr style=\"text-align: right;\">\n",
       "      <th></th>\n",
       "      <th>TARGET</th>\n",
       "      <th>EMERGENCYSTATE_MODE</th>\n",
       "      <th>HOUSETYPE_MODE</th>\n",
       "      <th>OCCUPATION_TYPE</th>\n",
       "      <th>WEEKDAY_APPR_PROCESS_START</th>\n",
       "      <th>ORGANIZATION_TYPE</th>\n",
       "      <th>CODE_GENDER</th>\n",
       "      <th>FLAG_OWN_CAR</th>\n",
       "      <th>FLAG_OWN_REALTY</th>\n",
       "      <th>NAME_INCOME_TYPE</th>\n",
       "      <th>NAME_EDUCATION_TYPE</th>\n",
       "      <th>FONDKAPREMONT_MODE</th>\n",
       "      <th>DAYS_BIRTH</th>\n",
       "      <th>DAYS_ID_PUBLISH</th>\n",
       "      <th>FLAG_PHONE</th>\n",
       "      <th>REG_CITY_NOT_WORK_CITY</th>\n",
       "      <th>FLAG_DOCUMENT_3</th>\n",
       "      <th>AMT_CREDIT</th>\n",
       "      <th>AMT_GOODS_PRICE</th>\n",
       "      <th>REGION_POPULATION_RELATIVE</th>\n",
       "      <th>DAYS_REGISTRATION</th>\n",
       "      <th>EXT_SOURCE_1</th>\n",
       "      <th>EXT_SOURCE_2</th>\n",
       "      <th>EXT_SOURCE_3</th>\n",
       "      <th>OBS_60_CNT_SOCIAL_CIRCLE</th>\n",
       "      <th>DEF_30_CNT_SOCIAL_CIRCLE</th>\n",
       "      <th>OBS_30_CNT_SOCIAL_CIRCLE</th>\n",
       "      <th>DEF_60_CNT_SOCIAL_CIRCLE</th>\n",
       "    </tr>\n",
       "  </thead>\n",
       "  <tbody>\n",
       "    <tr>\n",
       "      <th>0</th>\n",
       "      <td>1.0</td>\n",
       "      <td>0.0</td>\n",
       "      <td>-1.0</td>\n",
       "      <td>-0.166667</td>\n",
       "      <td>0.50</td>\n",
       "      <td>-0.666667</td>\n",
       "      <td>1.0</td>\n",
       "      <td>0.0</td>\n",
       "      <td>0.0</td>\n",
       "      <td>0.00</td>\n",
       "      <td>0.0</td>\n",
       "      <td>1.0</td>\n",
       "      <td>0.865557</td>\n",
       "      <td>0.439748</td>\n",
       "      <td>1.0</td>\n",
       "      <td>0.0</td>\n",
       "      <td>0.0</td>\n",
       "      <td>-0.200835</td>\n",
       "      <td>-0.224490</td>\n",
       "      <td>-0.002626</td>\n",
       "      <td>0.156519</td>\n",
       "      <td>-0.422758</td>\n",
       "      <td>-1.119441</td>\n",
       "      <td>-1.805485</td>\n",
       "      <td>1.0</td>\n",
       "      <td>2.0</td>\n",
       "      <td>1.0</td>\n",
       "      <td>2.0</td>\n",
       "    </tr>\n",
       "    <tr>\n",
       "      <th>1</th>\n",
       "      <td>0.0</td>\n",
       "      <td>0.0</td>\n",
       "      <td>-1.0</td>\n",
       "      <td>-0.583333</td>\n",
       "      <td>-0.75</td>\n",
       "      <td>0.142857</td>\n",
       "      <td>0.0</td>\n",
       "      <td>0.0</td>\n",
       "      <td>-1.0</td>\n",
       "      <td>-0.75</td>\n",
       "      <td>-1.5</td>\n",
       "      <td>1.0</td>\n",
       "      <td>-0.139535</td>\n",
       "      <td>1.149006</td>\n",
       "      <td>1.0</td>\n",
       "      <td>0.0</td>\n",
       "      <td>0.0</td>\n",
       "      <td>1.445698</td>\n",
       "      <td>1.540816</td>\n",
       "      <td>-0.820550</td>\n",
       "      <td>0.606692</td>\n",
       "      <td>-0.194527</td>\n",
       "      <td>0.208547</td>\n",
       "      <td>0.000000</td>\n",
       "      <td>0.5</td>\n",
       "      <td>0.0</td>\n",
       "      <td>0.5</td>\n",
       "      <td>0.0</td>\n",
       "    </tr>\n",
       "    <tr>\n",
       "      <th>2</th>\n",
       "      <td>0.0</td>\n",
       "      <td>1.0</td>\n",
       "      <td>0.0</td>\n",
       "      <td>-0.166667</td>\n",
       "      <td>-0.75</td>\n",
       "      <td>-0.523810</td>\n",
       "      <td>1.0</td>\n",
       "      <td>1.0</td>\n",
       "      <td>0.0</td>\n",
       "      <td>0.00</td>\n",
       "      <td>0.0</td>\n",
       "      <td>0.0</td>\n",
       "      <td>-0.453420</td>\n",
       "      <td>0.280368</td>\n",
       "      <td>1.0</td>\n",
       "      <td>0.0</td>\n",
       "      <td>-1.0</td>\n",
       "      <td>-0.705054</td>\n",
       "      <td>-0.714286</td>\n",
       "      <td>-0.472638</td>\n",
       "      <td>0.044615</td>\n",
       "      <td>0.000000</td>\n",
       "      <td>-0.036627</td>\n",
       "      <td>0.886052</td>\n",
       "      <td>0.0</td>\n",
       "      <td>0.0</td>\n",
       "      <td>0.0</td>\n",
       "      <td>0.0</td>\n",
       "    </tr>\n",
       "    <tr>\n",
       "      <th>3</th>\n",
       "      <td>0.0</td>\n",
       "      <td>1.0</td>\n",
       "      <td>0.0</td>\n",
       "      <td>-0.166667</td>\n",
       "      <td>0.50</td>\n",
       "      <td>-0.666667</td>\n",
       "      <td>0.0</td>\n",
       "      <td>0.0</td>\n",
       "      <td>0.0</td>\n",
       "      <td>0.00</td>\n",
       "      <td>0.0</td>\n",
       "      <td>0.0</td>\n",
       "      <td>-0.447778</td>\n",
       "      <td>0.316820</td>\n",
       "      <td>0.0</td>\n",
       "      <td>0.0</td>\n",
       "      <td>0.0</td>\n",
       "      <td>-0.375188</td>\n",
       "      <td>-0.346939</td>\n",
       "      <td>-0.580533</td>\n",
       "      <td>-0.974401</td>\n",
       "      <td>0.000000</td>\n",
       "      <td>0.312761</td>\n",
       "      <td>0.000000</td>\n",
       "      <td>1.0</td>\n",
       "      <td>0.0</td>\n",
       "      <td>1.0</td>\n",
       "      <td>0.0</td>\n",
       "    </tr>\n",
       "    <tr>\n",
       "      <th>4</th>\n",
       "      <td>0.0</td>\n",
       "      <td>1.0</td>\n",
       "      <td>0.0</td>\n",
       "      <td>-0.583333</td>\n",
       "      <td>0.00</td>\n",
       "      <td>0.095238</td>\n",
       "      <td>1.0</td>\n",
       "      <td>0.0</td>\n",
       "      <td>0.0</td>\n",
       "      <td>0.00</td>\n",
       "      <td>0.0</td>\n",
       "      <td>0.0</td>\n",
       "      <td>-0.575341</td>\n",
       "      <td>-0.079108</td>\n",
       "      <td>0.0</td>\n",
       "      <td>1.0</td>\n",
       "      <td>-1.0</td>\n",
       "      <td>-0.003300</td>\n",
       "      <td>0.142857</td>\n",
       "      <td>0.525969</td>\n",
       "      <td>0.035290</td>\n",
       "      <td>0.000000</td>\n",
       "      <td>-0.898454</td>\n",
       "      <td>0.000000</td>\n",
       "      <td>0.0</td>\n",
       "      <td>0.0</td>\n",
       "      <td>0.0</td>\n",
       "      <td>0.0</td>\n",
       "    </tr>\n",
       "  </tbody>\n",
       "</table>\n",
       "</div>"
      ],
      "text/plain": [
       "   TARGET  EMERGENCYSTATE_MODE  HOUSETYPE_MODE  OCCUPATION_TYPE  \\\n",
       "0     1.0                  0.0            -1.0        -0.166667   \n",
       "1     0.0                  0.0            -1.0        -0.583333   \n",
       "2     0.0                  1.0             0.0        -0.166667   \n",
       "3     0.0                  1.0             0.0        -0.166667   \n",
       "4     0.0                  1.0             0.0        -0.583333   \n",
       "\n",
       "   WEEKDAY_APPR_PROCESS_START  ORGANIZATION_TYPE  CODE_GENDER  FLAG_OWN_CAR  \\\n",
       "0                        0.50          -0.666667          1.0           0.0   \n",
       "1                       -0.75           0.142857          0.0           0.0   \n",
       "2                       -0.75          -0.523810          1.0           1.0   \n",
       "3                        0.50          -0.666667          0.0           0.0   \n",
       "4                        0.00           0.095238          1.0           0.0   \n",
       "\n",
       "   FLAG_OWN_REALTY  NAME_INCOME_TYPE  NAME_EDUCATION_TYPE  FONDKAPREMONT_MODE  \\\n",
       "0              0.0              0.00                  0.0                 1.0   \n",
       "1             -1.0             -0.75                 -1.5                 1.0   \n",
       "2              0.0              0.00                  0.0                 0.0   \n",
       "3              0.0              0.00                  0.0                 0.0   \n",
       "4              0.0              0.00                  0.0                 0.0   \n",
       "\n",
       "   DAYS_BIRTH  DAYS_ID_PUBLISH  FLAG_PHONE  REG_CITY_NOT_WORK_CITY  \\\n",
       "0    0.865557         0.439748         1.0                     0.0   \n",
       "1   -0.139535         1.149006         1.0                     0.0   \n",
       "2   -0.453420         0.280368         1.0                     0.0   \n",
       "3   -0.447778         0.316820         0.0                     0.0   \n",
       "4   -0.575341        -0.079108         0.0                     1.0   \n",
       "\n",
       "   FLAG_DOCUMENT_3  AMT_CREDIT  AMT_GOODS_PRICE  REGION_POPULATION_RELATIVE  \\\n",
       "0              0.0   -0.200835        -0.224490                   -0.002626   \n",
       "1              0.0    1.445698         1.540816                   -0.820550   \n",
       "2             -1.0   -0.705054        -0.714286                   -0.472638   \n",
       "3              0.0   -0.375188        -0.346939                   -0.580533   \n",
       "4             -1.0   -0.003300         0.142857                    0.525969   \n",
       "\n",
       "   DAYS_REGISTRATION  EXT_SOURCE_1  EXT_SOURCE_2  EXT_SOURCE_3  \\\n",
       "0           0.156519     -0.422758     -1.119441     -1.805485   \n",
       "1           0.606692     -0.194527      0.208547      0.000000   \n",
       "2           0.044615      0.000000     -0.036627      0.886052   \n",
       "3          -0.974401      0.000000      0.312761      0.000000   \n",
       "4           0.035290      0.000000     -0.898454      0.000000   \n",
       "\n",
       "   OBS_60_CNT_SOCIAL_CIRCLE  DEF_30_CNT_SOCIAL_CIRCLE  \\\n",
       "0                       1.0                       2.0   \n",
       "1                       0.5                       0.0   \n",
       "2                       0.0                       0.0   \n",
       "3                       1.0                       0.0   \n",
       "4                       0.0                       0.0   \n",
       "\n",
       "   OBS_30_CNT_SOCIAL_CIRCLE  DEF_60_CNT_SOCIAL_CIRCLE  \n",
       "0                       1.0                       2.0  \n",
       "1                       0.5                       0.0  \n",
       "2                       0.0                       0.0  \n",
       "3                       1.0                       0.0  \n",
       "4                       0.0                       0.0  "
      ]
     },
     "execution_count": 18,
     "metadata": {},
     "output_type": "execute_result"
    }
   ],
   "source": [
    "from sklearn.preprocessing import RobustScaler\n",
    "x = data_train.values #returns a numpy array\n",
    "rs = RobustScaler()\n",
    "x_scaled = rs.fit_transform(x)\n",
    "df = pd.DataFrame(x_scaled, columns=['TARGET','EMERGENCYSTATE_MODE','HOUSETYPE_MODE','OCCUPATION_TYPE','WEEKDAY_APPR_PROCESS_START','ORGANIZATION_TYPE','CODE_GENDER','FLAG_OWN_CAR','FLAG_OWN_REALTY','NAME_INCOME_TYPE','NAME_EDUCATION_TYPE','FONDKAPREMONT_MODE','DAYS_BIRTH','DAYS_ID_PUBLISH','FLAG_PHONE','REG_CITY_NOT_WORK_CITY','FLAG_DOCUMENT_3','AMT_CREDIT','AMT_GOODS_PRICE','REGION_POPULATION_RELATIVE','DAYS_REGISTRATION','EXT_SOURCE_1','EXT_SOURCE_2','EXT_SOURCE_3','OBS_60_CNT_SOCIAL_CIRCLE','DEF_30_CNT_SOCIAL_CIRCLE','OBS_30_CNT_SOCIAL_CIRCLE','DEF_60_CNT_SOCIAL_CIRCLE'])\n",
    "df.head()"
   ]
  },
  {
   "cell_type": "markdown",
   "metadata": {},
   "source": [
    "# train et test"
   ]
  },
  {
   "cell_type": "code",
   "execution_count": 19,
   "metadata": {},
   "outputs": [],
   "source": [
    "X_train, X_test, y_train, y_test = train_test_split(data_train.drop(columns=['TARGET']), data_train['TARGET'], test_size=0.20, random_state=42)"
   ]
  },
  {
   "cell_type": "markdown",
   "metadata": {},
   "source": [
    "# Reseaux neuronnes "
   ]
  },
  {
   "cell_type": "markdown",
   "metadata": {},
   "source": [
    "# Model"
   ]
  },
  {
   "cell_type": "code",
   "execution_count": 20,
   "metadata": {},
   "outputs": [],
   "source": [
    "model10 = tf.keras.models.Sequential([\n",
    "    tf.keras.layers.Dense(10, activation='relu', input_dim=(X_train.shape[1])),\n",
    "    #tf.keras.layers.Dropout(0.5),\n",
    "    #tf.keras.layers.Dense(30, activation='relu',kernel_regularizer=tf.keras.regularizers.l2(0.001)),\n",
    "    #tf.keras.layers.Dropout(0.5),\n",
    "    tf.keras.layers.Dense(1, activation='sigmoid')\n",
    "])"
   ]
  },
  {
   "cell_type": "code",
   "execution_count": null,
   "metadata": {},
   "outputs": [],
   "source": [
    "model10.summary()"
   ]
  },
  {
   "cell_type": "code",
   "execution_count": null,
   "metadata": {},
   "outputs": [],
   "source": [
    "model10.compile(loss='binary_crossentropy',\n",
    "             optimizer='adam',\n",
    "             metrics=['accuracy'])"
   ]
  },
  {
   "cell_type": "code",
   "execution_count": null,
   "metadata": {},
   "outputs": [],
   "source": [
    "X_train.shape"
   ]
  },
  {
   "cell_type": "markdown",
   "metadata": {},
   "source": [
    "# Entrainement"
   ]
  },
  {
   "cell_type": "code",
   "execution_count": null,
   "metadata": {},
   "outputs": [],
   "source": [
    "history = model10.fit(X_train,\n",
    "                    epochs=100,\n",
    "                    batch_size= 10,\n",
    "                   validation_data=y_train)"
   ]
  },
  {
   "cell_type": "code",
   "execution_count": null,
   "metadata": {},
   "outputs": [],
   "source": [
    "history = model10.fit(X_train,\n",
    "                    epochs=100,\n",
    "                    batch_size= 40,\n",
    "                   validation_data=y_train, \n",
    "                    callbacks=[tf.keras.callbacks.EarlyStopping(monitor='val_loss', patience=10),\n",
    "                               tfdocs.modeling.EpochDots(),\n",
    "                               tf.keras.callbacks.ModelCheckpoint(\"weights.best.hdf5\", \n",
    "                                                                   monitor='val_accuracy', \n",
    "                                                                   verbose=0, \n",
    "                                                                   save_best_only=True, \n",
    "                                                                   save_weights_only=False, \n",
    "                                                                   mode='max', \n",
    "                                                                   periode=1)])"
   ]
  },
  {
   "cell_type": "markdown",
   "metadata": {},
   "source": [
    "# ensemble classifier"
   ]
  },
  {
   "cell_type": "code",
   "execution_count": 27,
   "metadata": {},
   "outputs": [],
   "source": [
    "from sklearn.linear_model import SGDClassifier\n",
    "from sklearn.tree import DecisionTreeClassifier\n",
    "from sklearn.neighbors import KNeighborsClassifier\n",
    "from sklearn.ensemble import *\n",
    "from sklearn.ensemble import RandomForestClassifier, AdaBoostClassifier\n",
    "from sklearn.naive_bayes import GaussianNB\n",
    "from sklearn.model_selection import GridSearchCV"
   ]
  },
  {
   "cell_type": "code",
   "execution_count": 28,
   "metadata": {},
   "outputs": [],
   "source": [
    "model1 = SGDClassifier(random_state=0)\n",
    "model2 = DecisionTreeClassifier(random_state=0)\n",
    "model3 = KNeighborsClassifier(n_neighbors=4, metric='euclidean', n_jobs=-1)\n",
    "model4 = RandomForestClassifier(max_depth=9, n_estimators=9, max_features=1,  n_jobs=-1)\n",
    "model5 = AdaBoostClassifier()\n",
    "model6 = GaussianNB()"
   ]
  },
  {
   "cell_type": "code",
   "execution_count": null,
   "metadata": {},
   "outputs": [],
   "source": [
    "param_grid = {'n_neighbors':np.arange(1,5),\n",
    "             'metric':['euclidean','manhattan']}\n",
    "\n",
    "grid = GridSearchCV(KNeighborsClassifier(), param_grid, cv=5, n_jobs=-1)\n",
    "grid.fit(X_train, y_train)\n",
    "grid.best_score_"
   ]
  },
  {
   "cell_type": "code",
   "execution_count": null,
   "metadata": {},
   "outputs": [],
   "source": [
    "grid.best_params_"
   ]
  },
  {
   "cell_type": "code",
   "execution_count": 25,
   "metadata": {},
   "outputs": [
    {
     "data": {
      "text/plain": [
       "0.9191205255811592"
      ]
     },
     "execution_count": 25,
     "metadata": {},
     "output_type": "execute_result"
    }
   ],
   "source": [
    "param_grid = {'max_depth':np.arange(1,20),\n",
    "             'n_estimators':np.arange(1,10)}\n",
    "\n",
    "grid = GridSearchCV(RandomForestClassifier(), param_grid, cv=5, n_jobs=-1)\n",
    "grid.fit(X_train, y_train)\n",
    "grid.best_score_"
   ]
  },
  {
   "cell_type": "code",
   "execution_count": 26,
   "metadata": {},
   "outputs": [
    {
     "data": {
      "text/plain": [
       "{'max_depth': 9, 'n_estimators': 9}"
      ]
     },
     "execution_count": 26,
     "metadata": {},
     "output_type": "execute_result"
    }
   ],
   "source": [
    "grid.best_params_"
   ]
  },
  {
   "cell_type": "code",
   "execution_count": null,
   "metadata": {},
   "outputs": [],
   "source": [
    "param_grid = {'max_depth':np.arange(1,20),\n",
    "             'max_features':np.arange(1,10)}\n",
    "\n",
    "grid = GridSearchCV(DecisionTreeClassifier(), param_grid, cv=5, n_jobs=-1)\n",
    "grid.fit(X_train, y_train)\n",
    "grid.best_score_"
   ]
  },
  {
   "cell_type": "code",
   "execution_count": null,
   "metadata": {},
   "outputs": [],
   "source": [
    "grid.best_params_"
   ]
  },
  {
   "cell_type": "markdown",
   "metadata": {},
   "source": [
    "# votngClassifier"
   ]
  },
  {
   "cell_type": "code",
   "execution_count": 29,
   "metadata": {},
   "outputs": [],
   "source": [
    "#voting hard voting, soft voting\n",
    "model11 = VotingClassifier([('sgd', model1), \n",
    "                          ('tree', model2),\n",
    "                          ('kn', model3),\n",
    "                          ('rdforest',model4),\n",
    "                          ('ada',model5),\n",
    "                          ('bayes',model6)],\n",
    "                         voting='hard')"
   ]
  },
  {
   "cell_type": "code",
   "execution_count": 30,
   "metadata": {},
   "outputs": [
    {
     "name": "stdout",
     "output_type": "stream",
     "text": [
      "SGDClassifier 0.9190430356618486\n",
      "DecisionTreeClassifier 0.8504804398185911\n",
      "KNeighborsClassifier 0.9166082090769683\n",
      "RandomForestClassifier 0.9190634278443016\n",
      "AdaBoostClassifier 0.9190308003523769\n",
      "GaussianNB 0.919059349407811\n",
      "VotingClassifier 0.9190634278443016\n"
     ]
    }
   ],
   "source": [
    "for model in (model1, model2, model3, model4, model5, model6, model11):\n",
    "    model.fit(X_test, y_test)\n",
    "    print(model.__class__.__name__, model.score(X_train, y_train))"
   ]
  },
  {
   "cell_type": "code",
   "execution_count": null,
   "metadata": {},
   "outputs": [],
   "source": []
  },
  {
   "cell_type": "code",
   "execution_count": null,
   "metadata": {},
   "outputs": [],
   "source": [
    "#6.4 Confusion_matrix\n",
    "from sklearn.metrics import confusion_matrix\n",
    "confusion_matrix(y_test, model.predict(X_test))\n",
    "confusion_matrix(y_test, model.predict(X_test))"
   ]
  },
  {
   "cell_type": "markdown",
   "metadata": {},
   "source": [
    "# autre"
   ]
  },
  {
   "cell_type": "code",
   "execution_count": null,
   "metadata": {},
   "outputs": [],
   "source": [
    "test = df.groupby(['TARGET'])\n",
    "test"
   ]
  },
  {
   "cell_type": "code",
   "execution_count": null,
   "metadata": {
    "scrolled": true
   },
   "outputs": [],
   "source": [
    "test.head()"
   ]
  },
  {
   "cell_type": "code",
   "execution_count": null,
   "metadata": {},
   "outputs": [],
   "source": [
    "#test['CODE_GENDER'].value_counts()"
   ]
  },
  {
   "cell_type": "code",
   "execution_count": null,
   "metadata": {},
   "outputs": [],
   "source": [
    "test['FLAG_OWN_CAR'].value_counts()"
   ]
  },
  {
   "cell_type": "code",
   "execution_count": null,
   "metadata": {},
   "outputs": [],
   "source": []
  },
  {
   "cell_type": "code",
   "execution_count": null,
   "metadata": {},
   "outputs": [],
   "source": [
    "\n",
    "x=0\n",
    "y=0\n",
    "\n",
    "# test.hist()\n",
    "# test.plot()\n",
    "# test.size()\n",
    "\n",
    "# test['TARGET'].columns\n",
    "\n",
    "# print(test.group.columns)\n",
    "\n",
    "columns_name = []\n",
    "\n",
    "for name, group in test:\n",
    "    columns_name = group.columns\n",
    "\n",
    "\n",
    "# negatif_test = test[test['TARGET'] != 1]\n",
    "# positif_test = test['TARGET'] == 1\n",
    "\n",
    "\n",
    "# test['TARGET'].hist()\n",
    "\n",
    "test.hist(figsize=(25, 25))\n",
    "\n",
    "# fig, axs = plt.subplots(ceil(len(columns_name)/4), 4,  figsize=(30, 20))\n",
    "# for col in (columns_name):\n",
    "#     if(x>=4):\n",
    "#         x=0\n",
    "#         y+=1\n",
    "        \n",
    "#     sns.distplot(test[col], label='positif', ax=axs[y,x])\n",
    "# #     sns.distplot(positif_test[col], label='positif', ax=axs[y,x])\n",
    "# #     sns.distplot(negatif_test[col], label='negatif', ax=axs[y,x])\n",
    "#     axs[y,x].legend()\n",
    "#     x+=1"
   ]
  },
  {
   "cell_type": "code",
   "execution_count": null,
   "metadata": {},
   "outputs": [],
   "source": [
    "(data_train.isna().sum()/data_train.shape[0]).sort_values()"
   ]
  },
  {
   "cell_type": "code",
   "execution_count": null,
   "metadata": {},
   "outputs": [],
   "source": []
  },
  {
   "cell_type": "code",
   "execution_count": null,
   "metadata": {},
   "outputs": [],
   "source": [
    "df_test = pd.read_csv('home-credit-default-risk//application_test.csv')"
   ]
  },
  {
   "cell_type": "code",
   "execution_count": null,
   "metadata": {},
   "outputs": [],
   "source": [
    "for i,col in enumerate(df_test.select_dtypes('object').columns):\n",
    "    try:\n",
    "        df_test[col] = le[i].transform(df_test[col].astype(str))\n",
    "    except:\n",
    "        print('error : '+col)"
   ]
  }
 ],
 "metadata": {
  "kernelspec": {
   "display_name": "Python 3",
   "language": "python",
   "name": "python3"
  },
  "language_info": {
   "codemirror_mode": {
    "name": "ipython",
    "version": 3
   },
   "file_extension": ".py",
   "mimetype": "text/x-python",
   "name": "python",
   "nbconvert_exporter": "python",
   "pygments_lexer": "ipython3",
   "version": "3.8.2"
  }
 },
 "nbformat": 4,
 "nbformat_minor": 4
}
